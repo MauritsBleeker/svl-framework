{
 "cells": [
  {
   "cell_type": "code",
   "execution_count": null,
   "id": "69a4c3ea",
   "metadata": {},
   "outputs": [],
   "source": [
    "import sys\n",
    "sys.path.append(\"..\")"
   ]
  },
  {
   "cell_type": "code",
   "execution_count": null,
   "id": "360d14f1",
   "metadata": {},
   "outputs": [],
   "source": [
    "import numpy as np\n",
    "import fire\n",
    "import os\n",
    "from data.dataset import Dataset\n",
    "from torch.utils.data import DataLoader\n",
    "from data.dataset import collate_fn\n",
    "from utils.utils import load_json_annotations\n",
    "from models.model import Model\n",
    "import torch\n",
    "import logging\n",
    "from munch import Munch\n",
    "from utils.utils import update_config\n",
    "import wandb\n",
    "from utils.cluster import copy_data_to_mem\n",
    "from evaluation import Evaluator\n",
    "from utils.vocab import Vocabulary"
   ]
  },
  {
   "cell_type": "code",
   "execution_count": null,
   "id": "e2b82521",
   "metadata": {},
   "outputs": [],
   "source": [
    "device = 'cuda' if torch.cuda.is_available() else 'cpu' if torch.backends.mps.is_built() else 'cpu'"
   ]
  },
  {
   "cell_type": "code",
   "execution_count": null,
   "id": "4025a77b",
   "metadata": {},
   "outputs": [],
   "source": [
    "logging.basicConfig(format='%(asctime)s %(message)s', level=logging.INFO)"
   ]
  },
  {
   "cell_type": "code",
   "execution_count": null,
   "id": "f3524b14",
   "metadata": {},
   "outputs": [],
   "source": []
  },
  {
   "cell_type": "code",
   "execution_count": null,
   "id": "713b9360",
   "metadata": {},
   "outputs": [],
   "source": []
  },
  {
   "cell_type": "code",
   "execution_count": null,
   "id": "095bde1f",
   "metadata": {},
   "outputs": [],
   "source": [
    "vse_f30k_experiments = experiments = [\n",
    "    [\n",
    "        'f30k_vse_baseline_infonce',\n",
    "        'f30k_vse_baseline_infonce_rerun1',\n",
    "        'f30k_vse_baseline_infonce_rerun2'\n",
    "    ],\n",
    "    [\n",
    "        'f30k_vse_infonce_ltd_b020',\n",
    "        'f30k_vse_infonce_ltd_b020_rerun1',\n",
    "        'f30k_vse_infonce_ltd_b020_rerun2'\n",
    "    ],\n",
    "    [\n",
    "        'f30k_vse_baseline_infonce_unique_shortcuts',\n",
    "        'f30k_vse_baseline_infonce_unique_shortcuts_rerun1',\n",
    "         'f30k_vse_baseline_infonce_unique_shortcuts_rerun2'\n",
    "    ],\n",
    "    [\n",
    "        'f30k_vse_infonce_ltd_b005_unique_shortcuts',\n",
    "        'f30k_vse_infonce_ltd_b005_unique_shortcuts_rerun1',\n",
    "        'f30k_vse_infonce_ltd_b005_unique_shortcuts_rerun2'\n",
    "        \n",
    "    ],\n",
    "]\n",
    "vse_coco_experiments = [\n",
    "    [\n",
    "        'coco_vse_baseline_infonce',\n",
    "        'coco_vse_baseline_infonce_rerun1',\n",
    "        'coco_vse_baseline_infonce_rerun2'\n",
    "    ],\n",
    "    [\n",
    "        'coco_vse_infonce_ltd_b010',\n",
    "        'coco_vse_infonce_ltd_b010_rerun1',\n",
    "        'coco_vse_infonce_ltd_b010_rerun2'\n",
    "    ],\n",
    "    [\n",
    "        'coco_vse_baseline_infonce_unique_shortcuts',\n",
    "        'coco_vse_baseline_infonce_unique_shortcuts_rerun',\n",
    "        'coco_vse_baseline_infonce_unique_shortcuts_rerun1'\n",
    "    ],\n",
    "    [\n",
    "        'coco_vse_infonce_ltd_b001_unique_shortcuts',\n",
    "        'coco_vse_infonce_ltd_b001_unique_shortcuts_rerun1',\n",
    "        'coco_vse_infonce_ltd_b001_unique_shortcuts_rerun2'\n",
    "    ],\n",
    "]\n",
    "\n",
    "\n",
    "\n",
    "clip_f30k_experiments = [ \n",
    "['f30k_clip_baseline_finetune','f30k_clip_baseline_finetune_rerun1','f30k_clip_baseline_finetune_rerun2'],\n",
    "['f30k_clip_ltd','f30k_clip_ltd_rerun1','f30k_clip_ltd_rerun2'],\n",
    "['f30k_clip_baseline_finetune_unique_shortcuts','f30k_clip_baseline_finetune_unique_shortcuts_rerun1','f30k_clip_baseline_finetune_unique_shortcuts_rerun2'],\n",
    "['f30k_clip_ltd_unique_shortcuts','f30k_clip_ltd_unique_shortcuts_ltd_rerun1','f30k_clip_ltd_unique_shortcuts_ltd_rerunr1'],\n",
    "]\n",
    "\n",
    "f30k_vse_root_folder = ''\n",
    "f30k_clip_root_folder = ''\n",
    "\n",
    "coco_vse_root_folder = ''\n",
    "coco_clip_root_folder = ''\n",
    "\n",
    "\n",
    "\n",
    "model_file = 'model_last.pth'"
   ]
  },
  {
   "cell_type": "code",
   "execution_count": null,
   "id": "51c4c242",
   "metadata": {},
   "outputs": [],
   "source": [
    "#json_file = load_json_annotations(config)\n",
    "\n",
    "#if torch.cuda.is_available():\n",
    "#    copy_data_to_mem(config, split='test')"
   ]
  },
  {
   "cell_type": "code",
   "execution_count": null,
   "id": "d7e1fd06",
   "metadata": {},
   "outputs": [],
   "source": [
    "#model = Model(config=config)\n",
    "#model.load_state_dict(checkpoint['model'], strict=False)"
   ]
  },
  {
   "cell_type": "code",
   "execution_count": null,
   "id": "06afac4e",
   "metadata": {},
   "outputs": [],
   "source": [
    "#model.to_device(device)"
   ]
  },
  {
   "cell_type": "code",
   "execution_count": null,
   "id": "f0b4cdce",
   "metadata": {},
   "outputs": [],
   "source": [
    "#config.shortcuts.use_shortcuts = False\n",
    "#config.shortcuts.evaluation.on_caption = False\n",
    "#config.shortcuts.evaluation.on_image = False\n",
    "\n",
    "#evaluator = Evaluator(config=config, split='test', model=model, json_file=json_file, device=device)\n",
    "#evaluator.evaluate()"
   ]
  },
  {
   "cell_type": "code",
   "execution_count": null,
   "id": "dae3c8bf",
   "metadata": {},
   "outputs": [],
   "source": [
    "experiment_array = vse_coco_experiments\n",
    "experiment_root_folder = coco_vse_root_folder\n",
    "\n",
    "for i, experiment in enumerate(experiment_array):\n",
    "    out = []\n",
    "    for rerun_file in experiment:\n",
    "        \n",
    "        path_to_model = os.path.join(experiment_root_folder, rerun_file, model_file)\n",
    "        \n",
    "        checkpoint = torch.load(path_to_model, map_location='cuda' if torch.cuda.is_available() else 'cpu')\n",
    "\n",
    "        config = Munch.fromDict(checkpoint['config'])\n",
    "        \n",
    "        json_file = load_json_annotations(config)\n",
    "\n",
    "        if torch.cuda.is_available() and i == 0:\n",
    "            copy_data_to_mem(config, split='test')\n",
    "            \n",
    "        model = Model(config=config)\n",
    "        model.load_state_dict(checkpoint['model'], strict=False)\n",
    "        \n",
    "        model.to_device(device)\n",
    "        \n",
    "        config.shortcuts.use_shortcuts = False\n",
    "        config.shortcuts.evaluation.on_caption = False\n",
    "        config.shortcuts.evaluation.on_image = False\n",
    "\n",
    "        evaluator = Evaluator(config=config, split='test', model=model, json_file=json_file, device=device)\n",
    "        rsum, recall = evaluator.evaluate()\n",
    "        \n",
    "        out.append(recall + [rsum])\n",
    "    \n",
    "    out = np.array(out)\n",
    "    print(\"-------\")\n",
    "    print(\" & \".join([str(str(mean) + \"$\\pm$\" + str(std)) for mean, std in zip(out.mean(axis=0).round(1), out.std(axis=0).round(1))]))\n",
    "    print(\" & \".join([str(str(mean) + \"$\\pm$\" + str(var)) for mean, var in zip(out.mean(axis=0).round(1), out.var(axis=0).round(1))]))\n",
    "    print(\"-------\")"
   ]
  },
  {
   "cell_type": "code",
   "execution_count": null,
   "id": "da63d931",
   "metadata": {},
   "outputs": [],
   "source": [
    "#config.shortcuts.use_shortcuts = True\n",
    "#config.shortcuts.evaluation.on_caption = True\n",
    "#config.shortcuts.evaluation.on_image = True\n",
    "\n",
    "#evaluator = Evaluator(config=config, split='test', model=model, json_file=json_file, device=device)\n",
    "#evaluator.evaluate()"
   ]
  },
  {
   "cell_type": "code",
   "execution_count": null,
   "id": "da4834cd",
   "metadata": {},
   "outputs": [],
   "source": [
    "\" & \".join([str(str(mean) + \" \\pm \" + str(std)) for mean, std in zip(out.mean(axis=0).round(2), out.std(axis=0).round(2))])"
   ]
  },
  {
   "cell_type": "code",
   "execution_count": null,
   "id": "0ccf1f64",
   "metadata": {},
   "outputs": [],
   "source": []
  },
  {
   "cell_type": "code",
   "execution_count": null,
   "id": "b41c51ab",
   "metadata": {},
   "outputs": [],
   "source": []
  }
 ],
 "metadata": {
  "kernelspec": {
   "display_name": "Python 3 (ipykernel)",
   "language": "python",
   "name": "python3"
  },
  "language_info": {
   "codemirror_mode": {
    "name": "ipython",
    "version": 3
   },
   "file_extension": ".py",
   "mimetype": "text/x-python",
   "name": "python",
   "nbconvert_exporter": "python",
   "pygments_lexer": "ipython3",
   "version": "3.8.16"
  }
 },
 "nbformat": 4,
 "nbformat_minor": 5
}
