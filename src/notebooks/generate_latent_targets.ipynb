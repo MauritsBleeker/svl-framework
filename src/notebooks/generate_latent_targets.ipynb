{
 "cells": [
  {
   "cell_type": "code",
   "execution_count": null,
   "metadata": {
    "pycharm": {
     "is_executing": true
    }
   },
   "outputs": [],
   "source": [
    "from sentence_transformers import SentenceTransformer\n",
    "import pickle\n",
    "import os\n",
    "import torch\n",
    "import json"
   ]
  },
  {
   "cell_type": "code",
   "execution_count": null,
   "metadata": {},
   "outputs": [],
   "source": [
    "model_large = SentenceTransformer('sentence-transformers/all-mpnet-base-v2')"
   ]
  },
  {
   "cell_type": "code",
   "execution_count": null,
   "metadata": {},
   "outputs": [],
   "source": [
    "annotation_file = json.load(\n",
    "    open(\n",
    "        './src/datasets/annotations/f30k/dataset_flickr30k.json',\n",
    "        'rb'\n",
    "    )\n",
    ")"
   ]
  },
  {
   "cell_type": "code",
   "execution_count": null,
   "metadata": {},
   "outputs": [],
   "source": [
    "out = {}\n",
    "for img in annotation_file['images']:\n",
    "    for caption in img['sentences']:\n",
    "        out[caption['sentid']] = {'raw':caption['raw']}\n",
    "    "
   ]
  },
  {
   "cell_type": "code",
   "execution_count": null,
   "metadata": {},
   "outputs": [],
   "source": [
    "batch = []\n",
    "keys = []\n",
    "batch_size = 256\n",
    "i = 0 \n",
    "for key, caption in out.items():\n",
    "    \n",
    "    batch.append(caption['raw'])\n",
    "    keys.append(key)\n",
    "    \n",
    "    if i > 0 and i % batch_size == 0:\n",
    "        print(i)\n",
    "        targets = model_large.encode(batch)\n",
    "        \n",
    "        for j, key in enumerate(keys):\n",
    "            out[key]['target'] = targets[j]\n",
    "            out[key]['key'] = key\n",
    "        \n",
    "        batch = []\n",
    "        keys = []\n",
    "    \n",
    "    i += 1\n",
    "\n",
    "targets = model_large.encode(batch)\n",
    "for i, key in enumerate(keys):\n",
    "    out[key]['target'] = targets[i]"
   ]
  },
  {
   "cell_type": "code",
   "execution_count": null,
   "metadata": {},
   "outputs": [],
   "source": [
    "pickle.dump(out, open('./src/datasets/f30k/f30k_latent_targets.p','wb'))"
   ]
  },
  {
   "cell_type": "code",
   "execution_count": null,
   "metadata": {},
   "outputs": [],
   "source": []
  }
 ],
 "metadata": {
  "kernelspec": {
   "display_name": "Python 3 (ipykernel)",
   "language": "python",
   "name": "python3"
  },
  "language_info": {
   "codemirror_mode": {
    "name": "ipython",
    "version": 3
   },
   "file_extension": ".py",
   "mimetype": "text/x-python",
   "name": "python",
   "nbconvert_exporter": "python",
   "pygments_lexer": "ipython3",
   "version": "3.8.16"
  }
 },
 "nbformat": 4,
 "nbformat_minor": 1
}
