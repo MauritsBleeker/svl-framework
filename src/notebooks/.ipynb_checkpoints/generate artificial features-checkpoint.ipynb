{
 "cells": [
  {
   "cell_type": "code",
   "execution_count": null,
   "id": "a2d1c645",
   "metadata": {},
   "outputs": [],
   "source": [
    "import torch\n",
    "from torch.utils.data import DataLoader\n",
    "from torchvision import datasets, transforms\n",
    "from PIL import Image\n",
    "import torchvision.transforms as T\n",
    "from collections import defaultdict\n",
    "import random"
   ]
  },
  {
   "cell_type": "code",
   "execution_count": null,
   "id": "4293d7f1",
   "metadata": {},
   "outputs": [],
   "source": [
    "mnist = datasets.MNIST('../datasets', train=True, download=True,\n",
    "                       transform=None)\n",
    "\n",
    "num_digits = 5\n",
    "mnist_size = mnist.data.shape[0]\n",
    "mnist_indices = torch.randint(0, mnist_size, (num_digits,))"
   ]
  },
  {
   "cell_type": "code",
   "execution_count": null,
   "id": "f4a572fc",
   "metadata": {},
   "outputs": [],
   "source": [
    "label_to_idx = defaultdict(list)\n",
    "for i, label in enumerate(mnist.train_labels):\n",
    "    label_to_idx[int(label)].append(i)"
   ]
  },
  {
   "cell_type": "code",
   "execution_count": null,
   "id": "5315239c",
   "metadata": {},
   "outputs": [],
   "source": [
    "_ids = \"001001\"\n",
    "list_of_digits = [int(i) for i in str(_ids)]\n",
    "mnist_indices = [random.choice(label_to_idx[i]) for i in list_of_digits]\n",
    "mnist_digits = [mnist.data[i] for i in mnist_indices]\n",
    "\n",
    "\n",
    "#mnist_digits = [mnist.data[i] for i in mnist_indices]\n",
    "mnist_classes = [str(int(mnist.train_labels[i])) for i in mnist_indices]\n",
    "shortcut_tokens = \"\".join(mnist_classes)"
   ]
  },
  {
   "cell_type": "code",
   "execution_count": null,
   "id": "5f1368b0",
   "metadata": {},
   "outputs": [],
   "source": [
    "transform = T.ToPILImage()"
   ]
  },
  {
   "cell_type": "code",
   "execution_count": null,
   "id": "2c31b646",
   "metadata": {},
   "outputs": [],
   "source": [
    "img = Image.open('<path to coco data>/val2014/COCO_val2014_000000198661.jpg')\n",
    "img = img.convert('RGBA')"
   ]
  },
  {
   "cell_type": "code",
   "execution_count": null,
   "id": "b4c4b8e6",
   "metadata": {},
   "outputs": [],
   "source": [
    "for i, digit in enumerate(mnist_digits):\n",
    "    img.paste(transform(digit), (i*28, 0))"
   ]
  },
  {
   "cell_type": "code",
   "execution_count": null,
   "id": "88cb5074",
   "metadata": {},
   "outputs": [],
   "source": [
    "img"
   ]
  },
  {
   "cell_type": "code",
   "execution_count": null,
   "id": "d5d44688",
   "metadata": {},
   "outputs": [],
   "source": [
    "shortcut_tokens"
   ]
  },
  {
   "cell_type": "code",
   "execution_count": null,
   "id": "6c9b4da5",
   "metadata": {},
   "outputs": [],
   "source": [
    "str(101)"
   ]
  },
  {
   "cell_type": "code",
   "execution_count": null,
   "id": "1789696d",
   "metadata": {},
   "outputs": [],
   "source": [
    "random.randint(0, 2 ** 7)"
   ]
  },
  {
   "cell_type": "code",
   "execution_count": null,
   "id": "629eff83",
   "metadata": {},
   "outputs": [],
   "source": []
  },
  {
   "cell_type": "code",
   "execution_count": null,
   "id": "f6136807",
   "metadata": {},
   "outputs": [],
   "source": []
  },
  {
   "cell_type": "code",
   "execution_count": null,
   "id": "3ce71afd",
   "metadata": {},
   "outputs": [],
   "source": []
  }
 ],
 "metadata": {
  "kernelspec": {
   "display_name": "Python 3 (ipykernel)",
   "language": "python",
   "name": "python3"
  },
  "language_info": {
   "codemirror_mode": {
    "name": "ipython",
    "version": 3
   },
   "file_extension": ".py",
   "mimetype": "text/x-python",
   "name": "python",
   "nbconvert_exporter": "python",
   "pygments_lexer": "ipython3",
   "version": "3.8.16"
  }
 },
 "nbformat": 4,
 "nbformat_minor": 5
}
